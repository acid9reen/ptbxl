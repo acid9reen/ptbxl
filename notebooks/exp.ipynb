{
 "cells": [
  {
   "cell_type": "code",
   "execution_count": null,
   "id": "c3cac341",
   "metadata": {},
   "outputs": [],
   "source": [
    "import pandas as pd\n",
    "import seaborn as sns\n",
    "\n",
    "import ast\n",
    "from functools import partial"
   ]
  },
  {
   "cell_type": "code",
   "execution_count": null,
   "id": "fd700294",
   "metadata": {},
   "outputs": [],
   "source": [
    "data = pd.read_csv(r\"../data/raw/ptbxl_database.csv\", index_col=\"ecg_id\")"
   ]
  },
  {
   "cell_type": "code",
   "execution_count": null,
   "id": "5cc80a6b",
   "metadata": {},
   "outputs": [],
   "source": [
    "data.head()"
   ]
  },
  {
   "cell_type": "code",
   "execution_count": null,
   "id": "ce36b2f8",
   "metadata": {},
   "outputs": [],
   "source": [
    "data.columns"
   ]
  },
  {
   "cell_type": "code",
   "execution_count": null,
   "id": "ff407260",
   "metadata": {},
   "outputs": [],
   "source": [
    "unique_diagnosis = data.scp_codes.unique()\n",
    "unique_diagnosis, len(unique_diagnosis)"
   ]
  },
  {
   "cell_type": "code",
   "execution_count": null,
   "id": "141af0c6",
   "metadata": {},
   "outputs": [],
   "source": [
    "data.scp_codes = data.scp_codes.apply(ast.literal_eval)"
   ]
  },
  {
   "cell_type": "code",
   "execution_count": null,
   "id": "25eabda6",
   "metadata": {},
   "outputs": [],
   "source": [
    "data.scp_codes"
   ]
  },
  {
   "cell_type": "code",
   "execution_count": null,
   "id": "5289a9ac",
   "metadata": {},
   "outputs": [],
   "source": [
    "scp_statements = pd.read_csv(r\"../data/raw/scp_statements.csv\", index_col=0)"
   ]
  },
  {
   "cell_type": "code",
   "execution_count": null,
   "id": "5d8c363d",
   "metadata": {},
   "outputs": [],
   "source": [
    "scp_statements.head()"
   ]
  },
  {
   "cell_type": "code",
   "execution_count": null,
   "id": "0bce6c26",
   "metadata": {},
   "outputs": [],
   "source": [
    "scp_statements.columns"
   ]
  },
  {
   "cell_type": "code",
   "execution_count": null,
   "id": "86850983",
   "metadata": {},
   "outputs": [],
   "source": [
    "scp_statements.diagnostic_class.unique()"
   ]
  },
  {
   "cell_type": "code",
   "execution_count": null,
   "id": "a81dea84",
   "metadata": {},
   "outputs": [],
   "source": [
    "scp_superclass = scp_statements.diagnostic_class\n",
    "scp_superclass"
   ]
  },
  {
   "cell_type": "code",
   "execution_count": null,
   "id": "32375a5e",
   "metadata": {},
   "outputs": [],
   "source": [
    "def probs_to_list(threshold: int, probs: dict[str, int]) -> tuple[str]:\n",
    "    result = [key for key, value in probs.items() if value >= threshold]\n",
    "    \n",
    "    return tuple(result)"
   ]
  },
  {
   "cell_type": "code",
   "execution_count": null,
   "id": "30cae8ad",
   "metadata": {},
   "outputs": [],
   "source": [
    "test_scp_probs  = data.scp_codes.iloc[0]\n",
    "test_scp_probs"
   ]
  },
  {
   "cell_type": "code",
   "execution_count": null,
   "id": "5f6750ac",
   "metadata": {},
   "outputs": [],
   "source": [
    "probs_to_list(50, test_scp_probs)"
   ]
  },
  {
   "cell_type": "code",
   "execution_count": null,
   "id": "fc19cbbb",
   "metadata": {},
   "outputs": [],
   "source": [
    "probs_to_list_15 = partial(probs_to_list, 15)"
   ]
  },
  {
   "cell_type": "code",
   "execution_count": null,
   "id": "5fbd0d69",
   "metadata": {},
   "outputs": [],
   "source": [
    "data[\"diagnoses\"] = data.scp_codes.apply(probs_to_list_15)\n",
    "data.diagnoses"
   ]
  },
  {
   "cell_type": "code",
   "execution_count": null,
   "id": "dfb675c2",
   "metadata": {},
   "outputs": [],
   "source": [
    "data.diagnoses.unique()"
   ]
  },
  {
   "cell_type": "code",
   "execution_count": null,
   "id": "9e372f6a",
   "metadata": {},
   "outputs": [],
   "source": [
    "len(data[data.diagnoses == tuple()].scp_codes)"
   ]
  },
  {
   "cell_type": "code",
   "execution_count": null,
   "id": "14fa9119",
   "metadata": {},
   "outputs": [],
   "source": [
    "data.diagnoses"
   ]
  },
  {
   "cell_type": "code",
   "execution_count": null,
   "id": "bbd41633",
   "metadata": {},
   "outputs": [],
   "source": [
    "scp_statements = scp_statements[scp_statements.diagnostic == 1]\n",
    "scp_statements"
   ]
  },
  {
   "cell_type": "code",
   "execution_count": null,
   "id": "6a9e6c1b",
   "metadata": {},
   "outputs": [],
   "source": [
    "scp_superclass = scp_statements.diagnostic_class\n",
    "scp_superclass"
   ]
  },
  {
   "cell_type": "code",
   "execution_count": null,
   "id": "dd36da85",
   "metadata": {},
   "outputs": [],
   "source": [
    "def diagnosis_to_superclass(diag_sp_map: pd.Series, diags: tuple[str]) -> tuple[str]:\n",
    "    superclasses = set()\n",
    "    for diag in diags:\n",
    "        try:\n",
    "            superclass = diag_sp_map[diag]\n",
    "        except KeyError:\n",
    "            continue\n",
    "        \n",
    "        superclasses.add(superclass)\n",
    "\n",
    "    return tuple(superclasses)"
   ]
  },
  {
   "cell_type": "code",
   "execution_count": null,
   "id": "d2063cc9",
   "metadata": {},
   "outputs": [],
   "source": [
    "diagnosis_to_superclass(scp_superclass, (\"NDT\", \"PVC\", \"DIG\")) # Some tests passed"
   ]
  },
  {
   "cell_type": "code",
   "execution_count": null,
   "id": "64c47eaa",
   "metadata": {},
   "outputs": [],
   "source": [
    "diagnosis_to_superclass_sp = partial(diagnosis_to_superclass, scp_superclass)"
   ]
  },
  {
   "cell_type": "code",
   "execution_count": null,
   "id": "c52feaaa",
   "metadata": {},
   "outputs": [],
   "source": [
    "data[\"superclass\"] = data.diagnoses.apply(diagnosis_to_superclass_sp)\n",
    "data.superclass"
   ]
  },
  {
   "cell_type": "code",
   "execution_count": null,
   "id": "f7206491",
   "metadata": {},
   "outputs": [],
   "source": [
    "data.superclass.unique()"
   ]
  },
  {
   "cell_type": "code",
   "execution_count": null,
   "id": "5fcea439",
   "metadata": {},
   "outputs": [],
   "source": [
    "len(data[(data.superclass == tuple())])"
   ]
  },
  {
   "cell_type": "code",
   "execution_count": null,
   "id": "e0db28ea",
   "metadata": {},
   "outputs": [],
   "source": [
    "data[\"NORM\" in data.superclass]"
   ]
  },
  {
   "cell_type": "code",
   "execution_count": null,
   "id": "84bc8569",
   "metadata": {},
   "outputs": [],
   "source": []
  }
 ],
 "metadata": {
  "kernelspec": {
   "display_name": "Python 3 (ipykernel)",
   "language": "python",
   "name": "python3"
  },
  "language_info": {
   "codemirror_mode": {
    "name": "ipython",
    "version": 3
   },
   "file_extension": ".py",
   "mimetype": "text/x-python",
   "name": "python",
   "nbconvert_exporter": "python",
   "pygments_lexer": "ipython3",
   "version": "3.9.7"
  }
 },
 "nbformat": 4,
 "nbformat_minor": 5
}
